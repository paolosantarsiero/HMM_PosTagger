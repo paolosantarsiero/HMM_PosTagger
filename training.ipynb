{
 "metadata": {
  "language_info": {
   "codemirror_mode": {
    "name": "ipython",
    "version": 3
   },
   "file_extension": ".py",
   "mimetype": "text/x-python",
   "name": "python",
   "nbconvert_exporter": "python",
   "pygments_lexer": "ipython3",
   "version": "3.9.2"
  },
  "orig_nbformat": 2,
  "kernelspec": {
   "name": "python392jvsc74a57bd0aee8b7b246df8f9039afb4144a1f6fd8d2ca17a180786b69acc140d282b71a49",
   "display_name": "Python 3.9.2 64-bit"
  },
  "metadata": {
   "interpreter": {
    "hash": "aee8b7b246df8f9039afb4144a1f6fd8d2ca17a180786b69acc140d282b71a49"
   }
  }
 },
 "nbformat": 4,
 "nbformat_minor": 2,
 "cells": [
  {
   "cell_type": "code",
   "execution_count": 67,
   "metadata": {},
   "outputs": [],
   "source": [
    "import numpy as np\n",
    "import os\n",
    "from conllu import parse\n",
    "import math"
   ]
  },
  {
   "source": [
    "INIT TAG SETS"
   ],
   "cell_type": "markdown",
   "metadata": {}
  },
  {
   "cell_type": "code",
   "execution_count": 68,
   "metadata": {},
   "outputs": [],
   "source": [
    "tags_g = ['ADJ','ADP','ADV','CCONJ','DET','INTJ','NOUN','NUM','PART','PRON','PUNCT','SCONJ','VERB','X'];\n",
    "tags_l = ['ADJ','ADP','ADV','AUX','CCONJ','DET','NOUN','NUM','PART','PRON','PROPN','PUNCT','SCONJ','VERB','X']; "
   ]
  },
  {
   "source": [
    "COUNTING TAG AND WORD'S TAG"
   ],
   "cell_type": "markdown",
   "metadata": {}
  },
  {
   "cell_type": "code",
   "execution_count": 69,
   "metadata": {},
   "outputs": [],
   "source": [
    "def count(word, tag, tagset, count_words, count_tag):\n",
    "    index_of_tag = tagset.index(tag);\n",
    "    totIndex = len(tagset);\n",
    "    # update count of tag\n",
    "    count_tag[index_of_tag] = count_tag[index_of_tag] + 1;\n",
    "    # update count of word\n",
    "    if(word in count_words.keys()):\n",
    "        count_words[word][index_of_tag] = count_words[word][index_of_tag] + 1;\n",
    "    else:\n",
    "        word_row = np.zeros(len(tagset) + 1, dtype=int);\n",
    "        word_row[index_of_tag] = 1;\n",
    "        count_words[word] = word_row;\n",
    "    # update total count of word\n",
    "    count_words[word][totIndex] = count_words[word][totIndex] + 1;\n",
    "    # update total count of tag\n",
    "    count_tag[totIndex] = count_tag[totIndex] + 1;\n",
    "    return count_words, count_tag;"
   ]
  },
  {
   "source": [
    "CALCULATE EMISSION PROBABILITY"
   ],
   "cell_type": "markdown",
   "metadata": {}
  },
  {
   "cell_type": "code",
   "execution_count": 70,
   "metadata": {},
   "outputs": [],
   "source": [
    "def calculateEmissionProbability(word, tag, tagset, count_words, count_tag ,probEmission):\n",
    "    index_of_tag = tagset.index(tag);\n",
    "    # index for total count\n",
    "    totIndex = len(tagset);\n",
    "    #if word exist then update count\n",
    "    if(word in probEmission.keys()):\n",
    "        probEmission[word][index_of_tag] = count_words[word][index_of_tag] / count_tag[index_of_tag];\n",
    "    #if NTOT word exist then create row\n",
    "    else:\n",
    "        prob_row = np.zeros(len(tagset) + 1);\n",
    "        prob_row[index_of_tag] = count_words[word][index_of_tag] / count_tag[index_of_tag];\n",
    "        probEmission[word] = prob_row;\n",
    "    return probEmission;"
   ]
  },
  {
   "source": [
    "CALCULATE TRANSITION PROBABILITY"
   ],
   "cell_type": "markdown",
   "metadata": {}
  },
  {
   "cell_type": "code",
   "execution_count": 71,
   "metadata": {},
   "outputs": [],
   "source": [
    "def calculateTransictionProbability(word, prev_tag, tag, tagset, transition, count_tag, nSentences, probTransition):\n",
    "    #natural sequence when scan senteces\n",
    "    trans_tag = \"%s_%s\" % (prev_tag,tag);\n",
    "    #Sequence used to saved\n",
    "    trans_tag_real = \"%s_%s\" % (tag,prev_tag);\n",
    "    \n",
    "    if(trans_tag in transition.keys()):\n",
    "        transition[trans_tag] = transition[trans_tag] + 1;\n",
    "    else:\n",
    "        transition[trans_tag] = 1;\n",
    "\n",
    "    #When tag is Q0 (start) the calculate probTransistion with number of sentences\n",
    "    #Else use normal Transition probability\n",
    "    if(trans_tag in probTransition.keys() and prev_tag != 'Q0'):\n",
    "        index_of_tag = tagset.index(prev_tag);\n",
    "        probTransition[trans_tag_real] = transition[trans_tag] /count_tag[index_of_tag];\n",
    "    else:\n",
    "        probTransition[trans_tag_real] = transition[trans_tag]/ nSentences;\n",
    "\n",
    "    return tag, probTransition;"
   ]
  },
  {
   "cell_type": "code",
   "execution_count": 72,
   "metadata": {},
   "outputs": [],
   "source": [
    "def readFile(language,fileType):\n",
    "    nameFile = \"./corpus/%s/data_%s.conllu\" % (language,fileType);\n",
    "    tsv_file = open(nameFile,\"r\",encoding=\"utf-8\").read();\n",
    "    sentences = parse(tsv_file)\n",
    "    return sentences;"
   ]
  },
  {
   "cell_type": "code",
   "execution_count": 85,
   "metadata": {
    "tags": []
   },
   "outputs": [],
   "source": [
    "def train(language):\n",
    "    #select tag sets of language choosen\n",
    "    if language == \"greek\":\n",
    "        tagset = tags_g;\n",
    "    elif language == \"latin\":\n",
    "        tagset = tags_l;\n",
    "    else:\n",
    "        raise Exception(\"Language not found!\");\n",
    "\n",
    "    # INIT DATA STRUCTURE\n",
    "    count_words = dict();\n",
    "    count_tag = np.zeros(len(tagset) + 1, dtype = int);\n",
    "    probEmission = dict();\n",
    "    probTransition = dict();\n",
    "    transition = dict();\n",
    "\n",
    "    #Count number of sentence for calculate probTransistio with tag start Q0\n",
    "    nSentences = 0;\n",
    "\n",
    "    sentences = readFile(language,\"train\")\n",
    "    for sentence in sentences:\n",
    "        prev_tag = 'Q0';\n",
    "        nSentences = nSentences + 1;\n",
    "        for token in sentence:\n",
    "            word = token[\"form\"];\n",
    "            tag = token[\"upos\"];\n",
    "            count_words, count_tag = count(word, tag, tagset, count_words, count_tag);\n",
    "            probEmission = calculateEmissionProbability(word,tag,tagset, count_words, count_tag, probEmission);\n",
    "            prev_tag, probTransition = calculateTransictionProbability(word, prev_tag, tag, tagset, transition, count_tag, nSentences, probTransition)\n",
    "    return sentences,tagset, probEmission, probTransition;"
   ]
  },
  {
   "source": [
    "DECODING WITH VITERBI"
   ],
   "cell_type": "markdown",
   "metadata": {}
  },
  {
   "cell_type": "code",
   "execution_count": 74,
   "metadata": {},
   "outputs": [],
   "source": [
    "def tokenize_sentence(sentence):\n",
    "    words = [];\n",
    "    for token in sentence:\n",
    "        words.append(token[\"form\"]);\n",
    "    return words"
   ]
  },
  {
   "cell_type": "code",
   "execution_count": 75,
   "metadata": {
    "tags": []
   },
   "outputs": [],
   "source": [
    "def viterbi(sentence, tagset, probEmission, probTransition):\n",
    "    words = tokenize_sentence(sentence);\n",
    "    start_tag = \"Q0\";\n",
    "    viterbi_matrix = np.zeros((len(tagset),len(words)));\n",
    "    backtrace = np.zeros(len(words), dtype = int);\n",
    "    probabilites = np.zeros(len(words));\n",
    "    t = 0;\n",
    "   \n",
    "    for word in words:\n",
    "        # Calculate viterbi column for every tag possible\n",
    "        for tag in tagset:\n",
    "            index_of_tag = tagset.index(tag);\n",
    "            #Get Emission probabilty of word \n",
    "            probE = probEmission[word][index_of_tag];\n",
    "            #Run first iteration of viterbi to initialize first column\n",
    "            if t == 0:\n",
    "                tran_tag = \"%s_%s\" % (tag,start_tag);   \n",
    "                probT = 0\n",
    "                if tran_tag in probTransition.keys():\n",
    "                    probT = probTransition[tran_tag];\n",
    "                viterbi_matrix[index_of_tag][t] = probE * probT;\n",
    "            else:\n",
    "                max_tmp = np.zeros(len(tagset));\n",
    "                for i in range(0,len(tagset)):\n",
    "                    tran_tag = \"%s_%s\" % (tag,tagset[i]);\n",
    "                    probT = 0\n",
    "                    if tran_tag in probTransition.keys():\n",
    "                        probT = probTransition[tran_tag];\n",
    "\n",
    "                    max_tmp[i] = viterbi_matrix[i,t-1] * probT;\n",
    "                viterbi_matrix[index_of_tag,t] = np.amax(max_tmp) * probE;\n",
    "\n",
    "        index_max_values = np.argmax(viterbi_matrix[:,t]);  \n",
    "        backtrace[t] = index_max_values;\n",
    "        probabilites[t] = viterbi_matrix[index_max_values,t];\n",
    "        t= t +1;\n",
    "    return backtrace,probabilites;"
   ]
  },
  {
   "source": [],
   "cell_type": "markdown",
   "metadata": {}
  },
  {
   "cell_type": "code",
   "execution_count": 76,
   "metadata": {},
   "outputs": [],
   "source": [
    "def printPosTag(sentence, tagset, backtrace , probabilities):\n",
    "    i = 0;\n",
    "    words = tokenize_sentence(sentence);\n",
    "    for word in words:\n",
    "        print(\"WORD -> \" + word + \" , TAG -> \" + tagset[backtrace[i]] + \" , WITH PROB -> \" + str(probabilities[i]))\n",
    "        i = i + 1;"
   ]
  },
  {
   "source": [
    "TRAIN AND DECODING GREEK"
   ],
   "cell_type": "markdown",
   "metadata": {}
  },
  {
   "cell_type": "code",
   "execution_count": 87,
   "metadata": {
    "tags": []
   },
   "outputs": [],
   "source": [
    "sentences_greek, tagset_greek, probEmission_greek, probTransition_greek =  train(\"greek\");\n"
   ]
  },
  {
   "cell_type": "code",
   "execution_count": 88,
   "metadata": {},
   "outputs": [
    {
     "output_type": "stream",
     "name": "stdout",
     "text": [
      "==================== TEST ON GREEK ================================== \n",
      "==================== new sentence ================================== \n",
      "WORD -> ἐρᾷ , TAG -> VERB , WITH PROB -> 9.435169962449398e-05\n",
      "WORD -> μὲν , TAG -> PART , WITH PROB -> 3.0217439910802045e-07\n",
      "WORD -> ἁγνὸς , TAG -> ADJ , WITH PROB -> 6.3622033860714765e-12\n",
      "WORD -> οὐρανὸς , TAG -> NOUN , WITH PROB -> 4.647743328610378e-16\n",
      "WORD -> τρῶσαι , TAG -> VERB , WITH PROB -> 6.075481475307685e-17\n",
      "WORD -> χθόνα , TAG -> NOUN , WITH PROB -> 6.873014278609289e-21\n",
      "WORD -> , , TAG -> PUNCT , WITH PROB -> 6.3728020354193885e-22\n",
      "WORD -> ἔρως , TAG -> NOUN , WITH PROB -> 9.112531392721117e-27\n",
      "WORD -> δὲ , TAG -> PART , WITH PROB -> 8.88091549905803e-29\n",
      "WORD -> γαῖαν , TAG -> NOUN , WITH PROB -> 3.223942481827329e-32\n",
      "WORD -> λαμβάνει , TAG -> VERB , WITH PROB -> 2.809535931875668e-33\n",
      "WORD -> γάμου , TAG -> NOUN , WITH PROB -> 1.1672227212595416e-37\n",
      "WORD -> τυχεῖν , TAG -> VERB , WITH PROB -> 9.961575636429551e-42\n",
      "WORD -> · , TAG -> PUNCT , WITH PROB -> 7.0319855982484075e-43\n",
      "==================== new sentence ================================== \n",
      "WORD -> ὄμβρος , TAG -> NOUN , WITH PROB -> 2.559161907362648e-05\n",
      "WORD -> δ̓ , TAG -> PART , WITH PROB -> 4.6325644254302794e-07\n",
      "WORD -> ἀπ̓ , TAG -> ADP , WITH PROB -> 4.082108893839203e-10\n",
      "WORD -> εὐνάοντος , TAG -> ADJ , WITH PROB -> 2.946629317482044e-11\n",
      "WORD -> οὐρανοῦ , TAG -> NOUN , WITH PROB -> 3.8907387808589985e-15\n",
      "WORD -> πεσὼν , TAG -> VERB , WITH PROB -> 7.079774556289554e-19\n",
      "WORD -> ἔκυσε , TAG -> VERB , WITH PROB -> 1.2405888449107333e-20\n",
      "WORD -> γαῖαν , TAG -> NOUN , WITH PROB -> 4.201391041818403e-24\n",
      "WORD -> · , TAG -> PUNCT , WITH PROB -> 2.159651365370989e-25\n",
      "==================== new sentence ================================== \n",
      "WORD -> ἡ , TAG -> DET , WITH PROB -> 0.001159083620643415\n",
      "WORD -> δὲ , TAG -> ADV , WITH PROB -> 8.253770887294058e-06\n",
      "WORD -> τίκτεται , TAG -> VERB , WITH PROB -> 2.9834479225555876e-07\n",
      "WORD -> βροτοῖς , TAG -> NOUN , WITH PROB -> 1.418069320134682e-11\n",
      "WORD -> μήλων , TAG -> NOUN , WITH PROB -> 3.0330061058590046e-16\n",
      "WORD -> τε , TAG -> PART , WITH PROB -> 1.7757882917639428e-18\n",
      "WORD -> βοσκὰς , TAG -> NOUN , WITH PROB -> 3.338161676622189e-20\n",
      "WORD -> καὶ , TAG -> CCONJ , WITH PROB -> 6.559543741822298e-22\n",
      "WORD -> βίον , TAG -> NOUN , WITH PROB -> 1.2230251804528385e-25\n",
      "WORD -> Δημήτριον , TAG -> ADJ , WITH PROB -> 5.676678192589731e-27\n",
      "WORD -> · , TAG -> PUNCT , WITH PROB -> 2.236766559865016e-28\n",
      "==================== new sentence ================================== \n",
      "WORD -> δενδρῶτις , TAG -> NOUN , WITH PROB -> 0.009083712380415677\n",
      "WORD -> ὥρα , TAG -> NOUN , WITH PROB -> 9.077618147960047e-05\n",
      "WORD -> δ̓ , TAG -> PART , WITH PROB -> 1.643219632915586e-06\n",
      "WORD -> ἐκ , TAG -> ADP , WITH PROB -> 6.42964979680728e-09\n",
      "WORD -> νοτίζοντος , TAG -> VERB , WITH PROB -> 1.673532378767863e-11\n",
      "WORD -> γάμου , TAG -> NOUN , WITH PROB -> 6.952696333580202e-16\n",
      "WORD -> τέλειος , TAG -> ADJ , WITH PROB -> 2.4203234091582504e-17\n",
      "WORD -> ἐστί , TAG -> VERB , WITH PROB -> 6.7417702411145565e-21\n",
      "WORD -> . , TAG -> PUNCT , WITH PROB -> 5.747480071140613e-22\n",
      "==================== new sentence ================================== \n",
      "WORD -> ἐν , TAG -> ADP , WITH PROB -> 0.005688856024066014\n",
      "WORD -> Ἱππολύτῳ , TAG -> NOUN , WITH PROB -> 0.00017341093921177179\n",
      "WORD -> Εὐριπιδείῳ , TAG -> ADJ , WITH PROB -> 4.829327045983555e-06\n",
      "WORD -> πάλιν , TAG -> ADV , WITH PROB -> 1.0040897909912665e-09\n",
      "WORD -> ἡ , TAG -> DET , WITH PROB -> 1.104378526327329e-12\n",
      "WORD -> Ἀφροδίτη , TAG -> NOUN , WITH PROB -> 3.7034840512811114e-16\n",
      "WORD -> φησίν , TAG -> VERB , WITH PROB -> 9.922434151649288e-20\n",
      "WORD -> · , TAG -> PUNCT , WITH PROB -> 7.00435519445342e-21\n"
     ]
    }
   ],
   "source": [
    "print(\"==================== TEST ON GREEK ================================== \")\n",
    "\n",
    "for i in range(0,5):\n",
    "    print(\"==================== new sentence ================================== \")\n",
    "    backtrace_greek, probabilities_greek = viterbi(sentences_greek[i], tagset_greek, probEmission_greek, probTransition_greek);\n",
    "    printPosTag(sentences_greek[i], tagset_greek, backtrace_greek, probabilities_greek);"
   ]
  },
  {
   "source": [
    "TRAIN AND DECODING LATIN"
   ],
   "cell_type": "markdown",
   "metadata": {}
  },
  {
   "cell_type": "code",
   "execution_count": 80,
   "metadata": {
    "tags": []
   },
   "outputs": [],
   "source": [
    "sentences_latin, tagset_latin, probEmission_latin, probTransition_latin =  train(\"latin\");\n"
   ]
  },
  {
   "cell_type": "code",
   "execution_count": 81,
   "metadata": {},
   "outputs": [
    {
     "output_type": "stream",
     "name": "stdout",
     "text": [
      "==================== TEST ON LATIN ================================== \nWORD -> + , TAG -> PUNCT , WITH PROB -> 0.0477907757517123\nWORD -> In , TAG -> ADP , WITH PROB -> 7.95175730713278e-05\nWORD -> Dei , TAG -> PROPN , WITH PROB -> 6.730600719867964e-07\nWORD -> nomine , TAG -> NOUN , WITH PROB -> 3.957304376743928e-09\nWORD -> regnante , TAG -> VERB , WITH PROB -> 9.154634916135536e-12\nWORD -> domno , TAG -> NOUN , WITH PROB -> 1.1573354564099308e-14\nWORD -> nostro , TAG -> DET , WITH PROB -> 6.188509865711393e-17\nWORD -> Carulo , TAG -> PROPN , WITH PROB -> 5.469200602474012e-20\nWORD -> rege , TAG -> NOUN , WITH PROB -> 7.500897305500222e-23\nWORD -> Francorum , TAG -> NOUN , WITH PROB -> 2.1081007115471513e-26\nWORD -> et , TAG -> CCONJ , WITH PROB -> 1.0864475686704603e-27\nWORD -> Langobardorum , TAG -> NOUN , WITH PROB -> 6.444268799442303e-31\nWORD -> , , TAG -> PUNCT , WITH PROB -> 7.124095018424678e-32\nWORD -> anno , TAG -> NOUN , WITH PROB -> 2.2636869354322035e-34\nWORD -> regni , TAG -> NOUN , WITH PROB -> 1.101864558019235e-37\nWORD -> eius , TAG -> DET , WITH PROB -> 9.125503370060112e-40\nWORD -> quo , TAG -> PRON , WITH PROB -> 2.715982358959434e-43\nWORD -> coepit , TAG -> VERB , WITH PROB -> 7.647381412813452e-46\nWORD -> Langobardiam , TAG -> PROPN , WITH PROB -> 3.088599714272366e-49\nWORD -> primo , TAG -> ADJ , WITH PROB -> 5.578698803762913e-53\nWORD -> , , TAG -> PUNCT , WITH PROB -> 8.662360161268154e-54\nWORD -> septimo , TAG -> ADJ , WITH PROB -> 1.8957266751513478e-57\nWORD -> decimo , TAG -> ADJ , WITH PROB -> 2.8599079029877134e-60\nWORD -> kalendas , TAG -> NOUN , WITH PROB -> 4.1892451749678444e-63\nWORD -> augustas , TAG -> ADJ , WITH PROB -> 8.526477951212123e-67\nWORD -> , , TAG -> PUNCT , WITH PROB -> 1.3239543040160543e-67\nWORD -> per , TAG -> ADP , WITH PROB -> 9.932302604830745e-70\nWORD -> indictionem , TAG -> NOUN , WITH PROB -> 2.2108901212841838e-72\nWORD -> duodecimam , TAG -> ADJ , WITH PROB -> 7.998938089017041e-76\nWORD -> . , TAG -> PUNCT , WITH PROB -> 4.518158510355026e-77\n"
     ]
    }
   ],
   "source": [
    "print(\"==================== TEST ON LATIN ================================== \")\n",
    "backtrace_latin, probabilities_latin = viterbi(sentences_latin[0], tagset_latin, probEmission_latin, probTransition_latin);\n",
    "printPosTag(sentences_latin[0], tagset_latin, backtrace_latin, probabilities_latin);"
   ]
  },
  {
   "source": [
    "SMOOTHING"
   ],
   "cell_type": "markdown",
   "metadata": {}
  },
  {
   "cell_type": "code",
   "execution_count": null,
   "metadata": {},
   "outputs": [],
   "source": []
  }
 ]
}